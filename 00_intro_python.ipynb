{
  "nbformat": 4,
  "nbformat_minor": 0,
  "metadata": {
    "colab": {
      "provenance": [],
      "authorship_tag": "ABX9TyO0xO1OegqeQ849NioVVD4n",
      "include_colab_link": true
    },
    "kernelspec": {
      "name": "python3",
      "display_name": "Python 3"
    },
    "language_info": {
      "name": "python"
    }
  },
  "cells": [
    {
      "cell_type": "markdown",
      "metadata": {
        "id": "view-in-github",
        "colab_type": "text"
      },
      "source": [
        "<a href=\"https://colab.research.google.com/github/ahmadsarfraz18/python_assignment_4/blob/main/00_intro_python.ipynb\" target=\"_parent\"><img src=\"https://colab.research.google.com/assets/colab-badge.svg\" alt=\"Open In Colab\"/></a>"
      ]
    },
    {
      "cell_type": "code",
      "source": [
        "print (\"01_add_two_numbers\")\n",
        "\n",
        "def add():\n",
        "  print (\"This application will add the two numbers\")\n",
        "  first_number = int(input(\"Enter the first number:\"))\n",
        "  second_number = int(input (\"Enter the second number\"))\n",
        "  total = first_number + second_number\n",
        "  print (f'The total sum of {first_number} and {second_number} is {total}')\n",
        "if __name__ == \"__main__\":\n",
        "    add()"
      ],
      "metadata": {
        "colab": {
          "base_uri": "https://localhost:8080/"
        },
        "id": "FsKynih5QGRP",
        "outputId": "37f5b53c-1023-4502-87bb-073ae27d92dc"
      },
      "execution_count": null,
      "outputs": [
        {
          "output_type": "stream",
          "name": "stdout",
          "text": [
            "01_add_two_numbers\n",
            "This application will add the two numbers\n",
            "Enter the first number:22\n",
            "Enter the second number13\n",
            "The total sum of 22 and 13 is 35\n"
          ]
        }
      ]
    },
    {
      "cell_type": "code",
      "source": [
        "print(\"02_agreement_bot\")\n",
        "\n",
        "def bot():\n",
        "  animal = str(input(\"Which is your favourite animal ?\"))\n",
        "  print(f'My favorite animal is also {animal}')\n",
        "if __name__ == \"__main__\":\n",
        "  bot()"
      ],
      "metadata": {
        "colab": {
          "base_uri": "https://localhost:8080/"
        },
        "id": "dqQTflgsTU9J",
        "outputId": "e095d645-247f-448c-f094-d6e250740c85"
      },
      "execution_count": null,
      "outputs": [
        {
          "output_type": "stream",
          "name": "stdout",
          "text": [
            "02_agreement_bot\n",
            "Which is your favourite animal?hourse\n",
            "My favorite animal is also hourse\n"
          ]
        }
      ]
    },
    {
      "cell_type": "code",
      "source": [
        "print(\"03_fahrenheit_to_celsius\")\n",
        "\n",
        "def temp():\n",
        "  print(\"This app will convert a temperature from Fahrenheit to Celsius.\")\n",
        "  fahrenheight_degree = float(input(\"Enter your temperature in Fahrenheight degree: \"))\n",
        "  celsius_degree = (fahrenheight_degree - 32) * 5.0/9.0\n",
        "  print(f\"Temperature {fahrenheight_degree} F = {celsius_degree} C\")\n",
        "if __name__ == \"__main__\":\n",
        "  temp()"
      ],
      "metadata": {
        "colab": {
          "base_uri": "https://localhost:8080/"
        },
        "id": "q-30hVhteB_O",
        "outputId": "8c883f47-406c-4d51-cde1-d3ac9c9a580e"
      },
      "execution_count": null,
      "outputs": [
        {
          "output_type": "stream",
          "name": "stdout",
          "text": [
            "03_fahrenheit_to_celsius\n",
            "This app will convert a temperature from Fahrenheit to Celsius.\n",
            "Enter your temperature in Fahrenheight degree: 75\n",
            "Temperature 75.0 F = 23.88888888888889 C\n"
          ]
        }
      ]
    },
    {
      "cell_type": "code",
      "source": [
        "print(\"04_how_old_are_they ?\")\n",
        "\n",
        "def add_ages():\n",
        "  print(\"This application will add the ages of some persons\")\n",
        "  anthon: int = 21\n",
        "  beth: int = anthon + 6\n",
        "  chen: int = beth + 20\n",
        "  drew: int = chen  + anthon\n",
        "  ethan: int = chen\n",
        "\n",
        "  print(\"Anthon is \" + str(anthon))\n",
        "  print(\"Beth is \" + str(beth))\n",
        "  print (\"Chen is \" + str(chen))\n",
        "  print(\"Drew is \" + str(drew))\n",
        "  print(\"Ethon is \" + str(ethan))\n",
        "if __name__ == \"__main__\":\n",
        "  add_ages()"
      ],
      "metadata": {
        "colab": {
          "base_uri": "https://localhost:8080/"
        },
        "id": "l1t5_lnAqD6G",
        "outputId": "0e96be2d-01ee-41e3-dc7c-faaa5a7b8d7e"
      },
      "execution_count": null,
      "outputs": [
        {
          "output_type": "stream",
          "name": "stdout",
          "text": [
            "04_how_old_are_they ?\n",
            "This application will add the ages of some persons\n",
            "Anthon is 21\n",
            "Beth is 27\n",
            "Chen is 47\n",
            "Drew is 68\n",
            "Ethon is 47\n"
          ]
        }
      ]
    },
    {
      "cell_type": "code",
      "source": [
        "print(\"05_triangle_perimeter\")\n",
        "\n",
        "def length():\n",
        "  print(\"This program calculates the perimeter of a triangle.\")\n",
        "  side_1: float = float(input(\"What is the length of side 1? \"))\n",
        "  side_2: float = float(input(\"What is the length of side 2? \"))\n",
        "  side_3: float = float(input(\"What is the length of side 3? \"))\n",
        "  print(\"The total perimeter of the triangle is \" + str(side_1 + side_2 + side_3))\n",
        "if __name__ == \"__main__\":\n",
        "  length()"
      ],
      "metadata": {
        "colab": {
          "base_uri": "https://localhost:8080/"
        },
        "id": "VVOUR1fkyPft",
        "outputId": "5f08d01e-859c-448a-85f1-601917b8aa36"
      },
      "execution_count": null,
      "outputs": [
        {
          "output_type": "stream",
          "name": "stdout",
          "text": [
            "05_triangle_perimeter\n",
            "This program calculates the perimeter of a triangle.\n",
            "What is the length of side 1? 2\n",
            "What is the length of side 2? 3\n",
            "What is the length of side 3? 4\n",
            "The total perimeter of the triangle is 9.0\n"
          ]
        }
      ]
    },
    {
      "cell_type": "code",
      "source": [
        "print(\"06_square_number\")\n",
        "\n",
        "def square():\n",
        "  print(\"This app will give you the square of a number\")\n",
        "  num1: int = int(input(\"Enter a number: \"))\n",
        "  print(f\"The square of {num1} is {num1 ** 2}\")\n",
        "if __name__ == \"__main__\":\n",
        "  square()"
      ],
      "metadata": {
        "colab": {
          "base_uri": "https://localhost:8080/"
        },
        "id": "9M4_1y076eWC",
        "outputId": "78903ec0-7e1e-45cb-c798-f44a8af27687"
      },
      "execution_count": null,
      "outputs": [
        {
          "output_type": "stream",
          "name": "stdout",
          "text": [
            "06_square_number\n",
            "This app will give you the square of a number\n",
            "Enter a number: 3\n",
            "The square of 3 is 9\n"
          ]
        }
      ]
    }
  ]
}