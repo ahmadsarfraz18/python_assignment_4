{
  "nbformat": 4,
  "nbformat_minor": 0,
  "metadata": {
    "colab": {
      "provenance": [],
      "authorship_tag": "ABX9TyP1mNpoO/EAJdrXsysXZ1Y/",
      "include_colab_link": true
    },
    "kernelspec": {
      "name": "python3",
      "display_name": "Python 3"
    },
    "language_info": {
      "name": "python"
    }
  },
  "cells": [
    {
      "cell_type": "markdown",
      "metadata": {
        "id": "view-in-github",
        "colab_type": "text"
      },
      "source": [
        "<a href=\"https://colab.research.google.com/github/ahmadsarfraz18/python_assignment_4/blob/main/01_expressions.ipynb\" target=\"_parent\"><img src=\"https://colab.research.google.com/assets/colab-badge.svg\" alt=\"Open In Colab\"/></a>"
      ]
    },
    {
      "cell_type": "code",
      "execution_count": null,
      "metadata": {
        "colab": {
          "base_uri": "https://localhost:8080/"
        },
        "id": "CAoZFG3_h-b1",
        "outputId": "4bd80be9-86ed-4529-bda7-d8c403539db7"
      },
      "outputs": [
        {
          "output_type": "stream",
          "name": "stdout",
          "text": [
            "01_dicesimulator\n",
            "die1 in main() start as :10\n",
            "The total of two dice is 11\n",
            "The total of two dice is 10\n",
            "The total of two dice is 7\n",
            "die1 in main() is :10\n"
          ]
        }
      ],
      "source": [
        "import random\n",
        "print(\"01_dicesimulator\")\n",
        "\n",
        "def roll_dice():\n",
        "  die1: int = random.randint(1, 6)\n",
        "  die2: int = random.randint(1, 6)\n",
        "  total = die1 + die2\n",
        "  print(f'The total of two dice is {total}')\n",
        "\n",
        "def main():\n",
        "  die1: int = 10\n",
        "  print(\"die1 in main() start as :\" + str(die1))\n",
        "  roll_dice()\n",
        "  roll_dice()\n",
        "  roll_dice()\n",
        "  print(\"die1 in main() is :\" + str(die1))\n",
        "if __name__ == \"__main__\":\n",
        "  main()"
      ]
    },
    {
      "cell_type": "code",
      "source": [
        "print(\"02_e=mc2.md\")\n",
        "\n",
        "def energy():\n",
        "  c: float = 299792458\n",
        "  m: float = float(input(\"Enter kilos of mass: \"))\n",
        "  print(\"e = m*c^2\")\n",
        "  print(\"Mass = \" + str(m) + \"kg\")\n",
        "  print(\"C = \"+ str(c) + \"m/s\")\n",
        "  print(\"e = \"+ str(m * c ** 2) + \"jules \")\n",
        "if __name__ == \"__main__\":\n",
        "  energy()"
      ],
      "metadata": {
        "id": "y3bYgQx3OCOL",
        "colab": {
          "base_uri": "https://localhost:8080/"
        },
        "outputId": "3d1e0967-fc57-4cde-d145-c6afb7d520bd"
      },
      "execution_count": null,
      "outputs": [
        {
          "output_type": "stream",
          "name": "stdout",
          "text": [
            "02_e=mc2.md\n",
            "Enter kilos of mass: 120\n",
            "e = m*c^2\n",
            "Mass = 120.0kg\n",
            "C = 299792458m/s\n",
            "e = 1.0785062144841812e+19jules \n"
          ]
        }
      ]
    },
    {
      "cell_type": "code",
      "source": [
        "print(\"03_feet_to_inches\")\n",
        "\n",
        "inch_in_foot: int = 12\n",
        "def feet():\n",
        "  feet: float = float(input(\"Enter the feet value and I'll convert it into inches: \"))\n",
        "  print(f'There are {inch_in_foot * feet} inches in {feet} feet. ')\n",
        "if __name__ == \"__main__\":\n",
        "  feet()"
      ],
      "metadata": {
        "colab": {
          "base_uri": "https://localhost:8080/"
        },
        "id": "C6r05jDsx-0n",
        "outputId": "eeec3c9b-3649-4d51-ad51-56092ccf1e34"
      },
      "execution_count": null,
      "outputs": [
        {
          "output_type": "stream",
          "name": "stdout",
          "text": [
            "03_feet_to_inches\n",
            "Enter the feet value and I'll convert it into inches: 45.47\n",
            "There are 545.64 inches in 45.47 feet. \n"
          ]
        }
      ]
    },
    {
      "cell_type": "code",
      "source": [
        "print(\"04_pythagorean_theorem\")\n",
        "\n",
        "import math\n",
        "def triangle():\n",
        "  ab: float = float(input(\"Enter the length of AB: \"))\n",
        "  ac: float = float(input(\"Enter the length of BC: \"))\n",
        "  bc : float = math.sqrt(ac**2 + ac**2)\n",
        "  print(f'The length of BC is {bc}')\n",
        "if __name__ == \"__main__\":\n",
        "  triangle()\n"
      ],
      "metadata": {
        "colab": {
          "base_uri": "https://localhost:8080/"
        },
        "id": "YsF36yPr-FK4",
        "outputId": "2385d179-22b5-47f5-8a75-a01e8404873b"
      },
      "execution_count": null,
      "outputs": [
        {
          "output_type": "stream",
          "name": "stdout",
          "text": [
            "04_pythagorean_theorem\n",
            "Enter the length of AB: 12\n",
            "Enter the length of BC: 2.45\n",
            "The length of BC is 3.464823227814083\n"
          ]
        }
      ]
    },
    {
      "cell_type": "code",
      "source": [
        "print(\"05_remainder_division\")\n",
        "\n",
        "def remainder():\n",
        "  num1: int = int(input(\"Enter the first number to be devided: \"))\n",
        "  num2: int = int(input(\"Enter the second number to devided by: \"))\n",
        "  quotient: int = num1 // num2\n",
        "  remainder: int = num1 % num2\n",
        "  print(f'The result of the division is {quotient} and the remainder is {remainder}')\n",
        "if __name__ == \"__main__\":\n",
        "  remainder()"
      ],
      "metadata": {
        "colab": {
          "base_uri": "https://localhost:8080/"
        },
        "id": "wbiP7Zl3ECfC",
        "outputId": "0ff1281c-5db2-4236-a849-3b590e74d19a"
      },
      "execution_count": null,
      "outputs": [
        {
          "output_type": "stream",
          "name": "stdout",
          "text": [
            "05_remainder_division\n",
            "Enter the first number to be devided: 22\n",
            "Enter the second number to devided by: 4\n",
            "The result of the division is 5 and the remainder is 2\n"
          ]
        }
      ]
    },
    {
      "cell_type": "code",
      "source": [
        "print(\"06_rolldice\")\n",
        "\n",
        "import random\n",
        "\n",
        "def dice():\n",
        "  die1: int = random.randint(1,6)\n",
        "  die2: int = random.randint(1,6)\n",
        "  total = die1 + die2\n",
        "  print(\"first die \" + str(die1))\n",
        "  print(\"second die \" + str(die2))\n",
        "  print(f'The total of two dice is {total}')\n",
        "\n",
        "if __name__ == \"__main__\":\n",
        "  dice()"
      ],
      "metadata": {
        "colab": {
          "base_uri": "https://localhost:8080/"
        },
        "id": "CtoA5zetIBVS",
        "outputId": "42696f48-a8ef-4a87-c113-519065f15782"
      },
      "execution_count": null,
      "outputs": [
        {
          "output_type": "stream",
          "name": "stdout",
          "text": [
            "06_rolldice\n",
            "first die 4\n",
            "second die 5\n",
            "The total of two dice is 9\n"
          ]
        }
      ]
    },
    {
      "cell_type": "code",
      "source": [
        "print(\"06_seconds_in_year\")\n",
        "\n",
        "days_in_year: int = 365\n",
        "hours_in_day: int = 24\n",
        "mints_in_hour: int = 60\n",
        "seconds_in_mint: int = 60\n",
        "\n",
        "def seconds():\n",
        "  print(f'There are {days_in_year * hours_in_day * mints_in_hour * seconds_in_mint} seconds in a year ')\n",
        "if __name__ == \"__main__\":\n",
        "  seconds()"
      ],
      "metadata": {
        "colab": {
          "base_uri": "https://localhost:8080/"
        },
        "id": "qy8aD9x5R_PP",
        "outputId": "943c99d9-ca46-4cee-942e-e8f89ee26a28"
      },
      "execution_count": null,
      "outputs": [
        {
          "output_type": "stream",
          "name": "stdout",
          "text": [
            "06_seconds_in_year\n",
            "There are 31536000 seconds in a year \n"
          ]
        }
      ]
    },
    {
      "cell_type": "code",
      "source": [
        "print(\"07_tiny_mad_lib\")\n",
        "\n",
        "def mad_lib():\n",
        "  adjective: str = str(input(\"Enter an adjective: \"))\n",
        "  noun: str = str(input(\"Enter a noun: \"))\n",
        "  verb: str = str(input(\"Enter a verb: \"))\n",
        "  print(f'Do you {adjective} your {noun} {verb} ')\n",
        "if __name__ == \"__main__\":\n",
        "  mad_lib()"
      ],
      "metadata": {
        "colab": {
          "base_uri": "https://localhost:8080/"
        },
        "id": "ln5PqAYPTgNo",
        "outputId": "d3a8af23-f06f-4900-e085-b57bad36f2ee"
      },
      "execution_count": null,
      "outputs": [
        {
          "output_type": "stream",
          "name": "stdout",
          "text": [
            "07_tiny_mad_lib\n",
            "Enter an adjective: cute\n",
            "Enter a noun: parrot\n",
            "Enter a verb: recites\n",
            "Do you cute your parrot recites \n"
          ]
        }
      ]
    }
  ]
}