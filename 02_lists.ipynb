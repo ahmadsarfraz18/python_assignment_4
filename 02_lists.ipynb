{
  "nbformat": 4,
  "nbformat_minor": 0,
  "metadata": {
    "colab": {
      "provenance": [],
      "authorship_tag": "ABX9TyN75AeyLLDgQMrz17DE2irN",
      "include_colab_link": true
    },
    "kernelspec": {
      "name": "python3",
      "display_name": "Python 3"
    },
    "language_info": {
      "name": "python"
    }
  },
  "cells": [
    {
      "cell_type": "markdown",
      "metadata": {
        "id": "view-in-github",
        "colab_type": "text"
      },
      "source": [
        "<a href=\"https://colab.research.google.com/github/ahmadsarfraz18/python_assignment_4/blob/main/02_lists.ipynb\" target=\"_parent\"><img src=\"https://colab.research.google.com/assets/colab-badge.svg\" alt=\"Open In Colab\"/></a>"
      ]
    },
    {
      "cell_type": "code",
      "source": [
        "print(\"01_add_many_number\")\n",
        "\n",
        "def add_number(numbers) -> int:\n",
        "    num: int = 0\n",
        "    for i in numbers:\n",
        "        num += i\n",
        "    return num  # Yeh return statement function ko end kar raha hai\n",
        "\n",
        "def main():  # Ab yeh `add_number()` function ke bahar hai\n",
        "    numbers: list[int] = [1, 2, 3, 4, 5]\n",
        "    sum = add_number(numbers)\n",
        "    print(sum)\n",
        "\n",
        "if __name__ == \"__main__\":\n",
        "    main()\n"
      ],
      "metadata": {
        "id": "17LVys-ldVhR"
      },
      "execution_count": null,
      "outputs": []
    },
    {
      "cell_type": "code",
      "source": [
        "from graphics import Canvas\n",
        "import time\n",
        "\n",
        "CANVAS_WIDTH = 400\n",
        "CANVAS_HEIGHT = 400\n",
        "CELL_SIZE = 40\n",
        "ERASER_SIZE = 20\n",
        "\n",
        "def erase_objects(canvas, eraser):\n",
        "    mouse_x = canvas.get_mouse_x()\n",
        "    mouse_y = canvas.get_mouse_y()\n",
        "\n",
        "    left_x = mouse_x\n",
        "    top_y = mouse_y\n",
        "    right_x = left_x + ERASER_SIZE\n",
        "    bottom_y = top_y + ERASER_SIZE\n",
        "\n",
        "    overlapping_objects = canvas.find_overlapping(left_x, top_y, right_x, bottom_y)\n",
        "    for obj in overlapping_objects:\n",
        "        if obj != eraser:\n",
        "            canvas.set_color(obj, \"white\")\n",
        "\n",
        "def main():\n",
        "    canvas = Canvas(CANVAS_WIDTH, CANVAS_HEIGHT)\n",
        "    num_rows = CANVAS_HEIGHT // CELL_SIZE\n",
        "    num_cols = CANVAS_WIDTH // CELL_SIZE\n",
        "\n",
        "    # Create grid\n",
        "    for row in range(num_rows):\n",
        "        for col in range(num_cols):\n",
        "            left_x = col * CELL_SIZE\n",
        "            top_y = row * CELL_SIZE\n",
        "            right_x = left_x + CELL_SIZE\n",
        "            bottom_y = top_y + CELL_SIZE\n",
        "            canvas.create_rectangle(left_x, top_y, right_x, bottom_y, 'blue')\n",
        "\n",
        "    canvas.wait_for_click()\n",
        "    last_click_x, last_click_y = canvas.get_last_click()\n",
        "\n",
        "    # Create eraser\n",
        "    eraser = canvas.create_rectangle(\n",
        "        last_click_x,\n",
        "        last_click_y,\n",
        "        last_click_x + ERASER_SIZE,\n",
        "        last_click_y + ERASER_SIZE,\n",
        "        'pink'\n",
        "    )\n",
        "\n",
        "    while True:\n",
        "        mouse_x = canvas.get_mouse_x()\n",
        "        mouse_y = canvas.get_mouse_y()\n",
        "        canvas.moveto(eraser, mouse_x, mouse_y)\n",
        "        erase_objects(canvas, eraser)\n",
        "        time.sleep(0.05)\n",
        "\n",
        "if __name__ == \"__main__\":\n",
        "    main()"
      ],
      "metadata": {
        "colab": {
          "base_uri": "https://localhost:8080/",
          "height": 401
        },
        "id": "Fvuocia5V7eq",
        "outputId": "275747ab-3de1-468e-9c30-4e4c822beabe"
      },
      "execution_count": null,
      "outputs": [
        {
          "output_type": "error",
          "ename": "ModuleNotFoundError",
          "evalue": "No module named 'graphics'",
          "traceback": [
            "\u001b[0;31m---------------------------------------------------------------------------\u001b[0m",
            "\u001b[0;31mModuleNotFoundError\u001b[0m                       Traceback (most recent call last)",
            "\u001b[0;32m<ipython-input-2-13d9c1c00ed5>\u001b[0m in \u001b[0;36m<cell line: 0>\u001b[0;34m()\u001b[0m\n\u001b[0;32m----> 1\u001b[0;31m \u001b[0;32mfrom\u001b[0m \u001b[0mgraphics\u001b[0m \u001b[0;32mimport\u001b[0m \u001b[0mCanvas\u001b[0m\u001b[0;34m\u001b[0m\u001b[0;34m\u001b[0m\u001b[0m\n\u001b[0m\u001b[1;32m      2\u001b[0m \u001b[0;32mimport\u001b[0m \u001b[0mtime\u001b[0m\u001b[0;34m\u001b[0m\u001b[0;34m\u001b[0m\u001b[0m\n\u001b[1;32m      3\u001b[0m \u001b[0;34m\u001b[0m\u001b[0m\n\u001b[1;32m      4\u001b[0m \u001b[0mCANVAS_WIDTH\u001b[0m \u001b[0;34m=\u001b[0m \u001b[0;36m400\u001b[0m\u001b[0;34m\u001b[0m\u001b[0;34m\u001b[0m\u001b[0m\n\u001b[1;32m      5\u001b[0m \u001b[0mCANVAS_HEIGHT\u001b[0m \u001b[0;34m=\u001b[0m \u001b[0;36m400\u001b[0m\u001b[0;34m\u001b[0m\u001b[0;34m\u001b[0m\u001b[0m\n",
            "\u001b[0;31mModuleNotFoundError\u001b[0m: No module named 'graphics'",
            "",
            "\u001b[0;31m---------------------------------------------------------------------------\u001b[0;32m\nNOTE: If your import is failing due to a missing package, you can\nmanually install dependencies using either !pip or !apt.\n\nTo view examples of installing some common dependencies, click the\n\"Open Examples\" button below.\n\u001b[0;31m---------------------------------------------------------------------------\u001b[0m\n"
          ],
          "errorDetails": {
            "actions": [
              {
                "action": "open_url",
                "actionText": "Open Examples",
                "url": "/notebooks/snippets/importing_libraries.ipynb"
              }
            ]
          }
        }
      ]
    },
    {
      "cell_type": "code",
      "source": [
        "print(\"02_double_list\")\n",
        "\n",
        "def main():\n",
        "  numbers: list[int] = [1, 2, 3, 4, 5]\n",
        "  for i in range(len(numbers)):\n",
        "    index = numbers[i]\n",
        "    numbers[i] = index*2__++\n",
        "  print(numbers)\n",
        "if __name__ == \"__main__\":\n",
        "  main()\n"
      ],
      "metadata": {
        "id": "xAG8kt2Rd3Cz",
        "colab": {
          "base_uri": "https://localhost:8080/"
        },
        "outputId": "a0c7a4b3-6cd2-4af8-fe7e-ef4a2c1fcbb4"
      },
      "execution_count": null,
      "outputs": [
        {
          "output_type": "stream",
          "name": "stdout",
          "text": [
            "02_double_list\n",
            "[2, 4, 6, 8, 10]\n"
          ]
        }
      ]
    },
    {
      "cell_type": "code",
      "source": [
        "print(\"03_erase_canvas\")\n",
        "\n",
        "from graphics import canvas\n",
        "import time\n",
        "\n",
        "CANVAS_WIDTH: int = 400\n",
        "CANVAS_HEIGHT: int = 400\n",
        "\n",
        "CELL_SIZE: int = 40\n",
        "ERASER_SIZE: int = 20\n",
        "\n",
        "def erase_objects(canvas, eraser):\n",
        "  \"\"\"Erase objects in contact with the eraser\"\"\"\n",
        "  # Get mouse info to help us know which cells to delete..\n",
        "  mouse_x: int = canvas.get_mouse_x()\n",
        "  mouse_y: int = canvas.get_mouse_y()\n",
        "\n",
        "  # Calculate where your eraser is ...\n",
        "\n",
        "  left_x = mouse_x\n",
        "  top_y - mouse_y\n",
        "\n",
        "  right_x = left_x + ERASER_SIZE\n",
        "  top_y = bottom_y + ERASER_SIZE\n",
        "\n",
        "# Find things that overlap with your eraser..\n",
        "\n",
        "overlapping_objects = canvas.find_overlapping (left_x, top_y, right_x, bottom_y)\n",
        "\n",
        "for overlapping_object in overlapping_objects:\n",
        "  if overlapping_object != eraser:\n",
        "    canvas.set_object_color(overlapping_object, \"white\")\n",
        "\n",
        "def main():\n",
        "  canvas = Canvas(CANVAS_WIDTH, CANVAS_HEIGHT)\n",
        "\n",
        "  num_rows = CANVAS_HEIGHT\n",
        "  num_cols = CANVAS_WIDTH\n",
        "\n",
        "  for row in range(num_rows):\n",
        "    for col in range(num_cols):\n",
        "      left_x = col * CELL_SIZE\n",
        "      top_y = row * CELL_SIZE\n",
        "      right_x = left_x + CELL_SIZE\n",
        "      bottom_y = top_y + CELL_SIZE\n",
        "\n",
        "    # Create a single cell in a grid..\n",
        "\n",
        "    cell = canvas.create_rectangle(left_x, top_y, right_x, bottom_y, 'blue')\n",
        "\n",
        "    canvas.wait_for_click()\n",
        "    last_click_x = last_click_y = canvas.get_last_click()\n",
        "\n",
        "    # Create our eraser..\n",
        "\n",
        "    eraser = canvas.create-rectange(\n",
        "        last_click_x,\n",
        "        last_click_y,\n",
        "        last_click_x + ERASER_SIZE,\n",
        "        last_click_y + ERASER_SIZE,\n",
        "        'pink'\n",
        "    )\n",
        "\n",
        "    # Move the eraser and erase what it is touching..\n",
        "\n",
        "    while True:\n",
        "      mouse_x = canvas.get_mouse_x()\n",
        "      mouse_y = canvas.get_mouse_y()\n",
        "      canvas.moveto(eraser, mouse_x, mouse_y)\n",
        "\n",
        "    # Erase anything touching the eraser..\n",
        "\n",
        "    erase_objects(canvas, eraser)\n",
        "    time.sleep(0.05)s\n",
        "\n",
        "if __name__ == \"main__\":\n",
        "  main()\n"
      ],
      "metadata": {
        "colab": {
          "base_uri": "https://localhost:8080/",
          "height": 110
        },
        "id": "bSUF98eYCUP1",
        "outputId": "53a7f463-618a-4081-da64-1fa148f4642d"
      },
      "execution_count": null,
      "outputs": [
        {
          "output_type": "error",
          "ename": "SyntaxError",
          "evalue": "invalid syntax (<ipython-input-3-d5be34d2041d>, line 74)",
          "traceback": [
            "\u001b[0;36m  File \u001b[0;32m\"<ipython-input-3-d5be34d2041d>\"\u001b[0;36m, line \u001b[0;32m74\u001b[0m\n\u001b[0;31m    time.sleep(0.05)s\u001b[0m\n\u001b[0m                    ^\u001b[0m\n\u001b[0;31mSyntaxError\u001b[0m\u001b[0;31m:\u001b[0m invalid syntax\n"
          ]
        }
      ]
    },
    {
      "cell_type": "code",
      "source": [
        "print(\"04_flowing_with_data_structures\")\n",
        "\n",
        "def add_three_copies(list,data):\n",
        "  for i in range(3):\n",
        "    list.append(data)\n",
        "def main():\n",
        "  message = input(\"Enter a message to copy. \")\n",
        "  list = []\n",
        "  print(\"Before list \", list)\n",
        "  add_three_copies(list, message)\n",
        "  print(\"After list \",list)\n",
        "if __name__ == \"__main__\":\n",
        "  main()\n",
        "\n",
        "\n",
        "\n"
      ],
      "metadata": {
        "colab": {
          "base_uri": "https://localhost:8080/"
        },
        "id": "6EB_pDDNFnZY",
        "outputId": "2c543bca-b512-4359-dacc-7f25a981cfdb"
      },
      "execution_count": null,
      "outputs": [
        {
          "output_type": "stream",
          "name": "stdout",
          "text": [
            "04_flowing_with_data_structures\n",
            "Enter a message to copy. Allah is the greatest\n",
            "Before list  []\n",
            "After list  ['Allah is the greatest', 'Allah is the greatest', 'Allah is the greatest']\n"
          ]
        }
      ]
    },
    {
      "cell_type": "code",
      "source": [],
      "metadata": {
        "id": "h8-zOdHLB4cM"
      },
      "execution_count": null,
      "outputs": []
    },
    {
      "cell_type": "code",
      "source": [
        "print(\"05_get_first_element\")\n",
        "\n",
        "def get_first_element(lst):\n",
        "    print(lst[0])\n",
        "\n",
        "def get_list():\n",
        "    lst = []\n",
        "    elem: str = input(\"Enter an element to add to the list: \")\n",
        "    while elem != \"\":\n",
        "        lst.append(elem)\n",
        "        elem = input(\"Enter an element to add to the list: \")  # \"teh\" -> \"the\"\n",
        "    return lst  # Loop ke baad return hoga\n",
        "\n",
        "def main():\n",
        "    lst = get_list()\n",
        "    if lst:  # List empty na ho to tabhi print kare\n",
        "        get_first_element(lst)\n",
        "    else:\n",
        "        print(\"List is empty, no first element to display.\")\n",
        "\n",
        "if __name__ == \"__main__\":\n",
        "    main()\n"
      ],
      "metadata": {
        "colab": {
          "base_uri": "https://localhost:8080/"
        },
        "id": "9S_t2MgaTgQm",
        "outputId": "99146400-2aa4-487a-e560-a8eb1978548d"
      },
      "execution_count": 1,
      "outputs": [
        {
          "output_type": "stream",
          "name": "stdout",
          "text": [
            "05_get_first_element\n",
            "Enter an element to add to the list: ALLAH\n",
            "Enter an element to add to the list: MOHAMMAD\n",
            "Enter an element to add to the list: ALI\n",
            "Enter an element to add to the list: HASSAN\n",
            "Enter an element to add to the list: HUSSAIN\n",
            "Enter an element to add to the list: \n",
            "ALLAH\n"
          ]
        }
      ]
    },
    {
      "cell_type": "code",
      "source": [
        "print(\"06_get_last_element\")\n",
        "\n",
        "def get_last_element(lst):\n",
        "  print(lst[-1])\n",
        "\n",
        "def get_lst():\n",
        "  lst = []\n",
        "  elem: str = input(\"Enter an element to add to the list: \")\n",
        "  while elem != \"\":\n",
        "    lst.append(elem)\n",
        "    elem = input(\"Enter an element to the list: \")\n",
        "  return lst\n",
        "\n",
        "\n",
        "def main():\n",
        "  lst = get_lst()\n",
        "  get_last_element(lst)\n",
        "\n",
        "\n",
        "if __name__ == \"__main__\":\n",
        "  main()\n"
      ],
      "metadata": {
        "id": "oWZ-SD73Ty6r",
        "colab": {
          "base_uri": "https://localhost:8080/"
        },
        "outputId": "e1360307-7b91-4503-bda7-cbbfe34a07ad"
      },
      "execution_count": 2,
      "outputs": [
        {
          "output_type": "stream",
          "name": "stdout",
          "text": [
            "06_get_last_element\n",
            "Enter an element to add to the list: mahar\n",
            "Enter an element to the list: ahmad \n",
            "Enter an element to the list: sarfraz\n",
            "Enter an element to the list: \n",
            "sarfraz\n"
          ]
        }
      ]
    },
    {
      "cell_type": "code",
      "source": [
        "print(\"07_get_list\")\n",
        "\n",
        "def main():\n",
        "    lst = []\n",
        "\n",
        "    while True:\n",
        "      val = input(\"Enter the value: \")\n",
        "      if val == \"\":\n",
        "        break\n",
        "      lst.append(val)\n",
        "    print(\"Here's the list: \", lst)\n",
        "\n",
        "if __name__ == \"__main__\":\n",
        "  main()"
      ],
      "metadata": {
        "colab": {
          "base_uri": "https://localhost:8080/"
        },
        "id": "QGT-c0c4okkV",
        "outputId": "e9acfd96-35f5-480c-c277-c86c35389508"
      },
      "execution_count": 3,
      "outputs": [
        {
          "output_type": "stream",
          "name": "stdout",
          "text": [
            "07_get_list\n",
            "Enter the value: mahar \n",
            "Enter the value: ahmad\n",
            "Enter the value: sarfraz\n",
            "Enter the value: Muhammad \n",
            "Enter the value: Ahmad \n",
            "Enter the value: Mujtaba\n",
            "Enter the value: Subhan\n",
            "Enter the value: Abdullah\n",
            "Enter the value: \n",
            "Here's the list:  ['mahar ', 'ahmad', 'sarfraz', 'Muhammad ', 'Ahmad ', 'Mujtaba', 'Subhan', 'Abdullah']\n"
          ]
        }
      ]
    },
    {
      "cell_type": "code",
      "source": [
        "print(\"08_shorten\")\n",
        "\n",
        "MAX_LENGTH: int = 3\n",
        "\n",
        "def shorten(lst):\n",
        "  \"\"\"Remove elements from the end of the list untill its length is MAX_LENGTH\"\"\"\n",
        "  while len(lst)> MAX_LENGTH:\n",
        "    last_elem = lst.pop()\n",
        "    print(f'removed {last_elem}')\n",
        "\n",
        "def get_lst():\n",
        "  \"\"\"Prompts the user to enter elements one by one and returns the list\"\"\"\n",
        "\n",
        "  lst =[]\n",
        "  while True:\n",
        "    elem = input(\"Enter an element (or press enter to stop): \")\n",
        "    if elem == \"\":\n",
        "      break\n",
        "    lst.append(elem)\n",
        "  return lst\n",
        "\n",
        "\n",
        "def main():\n",
        "  \"\"\"Main function to get user input and process list shortening\"\"\"\n",
        "\n",
        "  lst = get_lst()\n",
        "  print(\"Original list: \", lst)\n",
        "  shorten(lst)\n",
        "  print(\"Final list: \", lst)\n",
        "\n",
        "if __name__ == \"__main__\":\n",
        "  main()"
      ],
      "metadata": {
        "colab": {
          "base_uri": "https://localhost:8080/"
        },
        "id": "KrNHmY48wlub",
        "outputId": "7872d569-bd45-4adb-f32e-49283a149dff"
      },
      "execution_count": 6,
      "outputs": [
        {
          "output_type": "stream",
          "name": "stdout",
          "text": [
            "08_shorten\n",
            "Enter an element (or press enter to stop): a\n",
            "Enter an element (or press enter to stop): w\n",
            "Enter an element (or press enter to stop): d\n",
            "Enter an element (or press enter to stop): d \n",
            "Enter an element (or press enter to stop): asdfa\n",
            "Enter an element (or press enter to stop): asdf\n",
            "Enter an element (or press enter to stop): ewer\n",
            "Enter an element (or press enter to stop): asdf\n",
            "Enter an element (or press enter to stop): zxcv\n",
            "Enter an element (or press enter to stop): \n",
            "Original list:  ['a', 'w', 'd', 'd ', 'asdfa', 'asdf', 'ewer', 'asdf', 'zxcv']\n",
            "removed zxcv\n",
            "removed asdf\n",
            "removed ewer\n",
            "removed asdf\n",
            "removed asdfa\n",
            "removed d \n",
            "Final list:  ['a', 'w', 'd']\n"
          ]
        }
      ]
    }
  ]
}